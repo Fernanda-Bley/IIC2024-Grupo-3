{
 "cells": [
  {
   "cell_type": "markdown",
   "metadata": {},
   "source": [
    "# Buscando el maximo de fumadores"
   ]
  },
  {
   "cell_type": "code",
   "execution_count": 1,
   "metadata": {},
   "outputs": [],
   "source": [
    "import pandas as pd"
   ]
  },
  {
   "cell_type": "markdown",
   "metadata": {},
   "source": [
    "## Smokers por día "
   ]
  },
  {
   "cell_type": "code",
   "execution_count": 2,
   "metadata": {},
   "outputs": [
    {
     "name": "stdout",
     "output_type": "stream",
     "text": [
      "           Entity Code  Year  \\\n",
      "0     Afghanistan  AFG  1980   \n",
      "1     Afghanistan  AFG  1981   \n",
      "2     Afghanistan  AFG  1982   \n",
      "3     Afghanistan  AFG  1983   \n",
      "4     Afghanistan  AFG  1984   \n",
      "...           ...  ...   ...   \n",
      "6133     Zimbabwe  ZWE  2008   \n",
      "6134     Zimbabwe  ZWE  2009   \n",
      "6135     Zimbabwe  ZWE  2010   \n",
      "6136     Zimbabwe  ZWE  2011   \n",
      "6137     Zimbabwe  ZWE  2012   \n",
      "\n",
      "      Daily smoking prevalence - both (IHME, GHDx (2012))  Population  \\\n",
      "0                                                  10.4      13169312   \n",
      "1                                                  10.5      11937587   \n",
      "2                                                  10.5      10991382   \n",
      "3                                                  10.5      10917986   \n",
      "4                                                  10.6      11190220   \n",
      "...                                                 ...           ...   \n",
      "6133                                               11.2      12959154   \n",
      "6134                                               11.2      13142793   \n",
      "6135                                               11.2      13356552   \n",
      "6136                                               11.2      13595422   \n",
      "6137                                               11.3      13817886   \n",
      "\n",
      "          Smokers  \n",
      "0     136960844.8  \n",
      "1     125344663.5  \n",
      "2     115409511.0  \n",
      "3     114638853.0  \n",
      "4     118616332.0  \n",
      "...           ...  \n",
      "6133  145142524.8  \n",
      "6134  147199281.6  \n",
      "6135  149593382.4  \n",
      "6136  152268726.4  \n",
      "6137  156142111.8  \n",
      "\n",
      "[6138 rows x 6 columns]\n"
     ]
    }
   ],
   "source": [
    "smokers = pd.read_csv(\"./data/Daily-Smokers.csv\")\n",
    "\n",
    "smokers[\"Smokers\"] = smokers[\"Daily smoking prevalence - both (IHME, GHDx (2012))\"] * smokers[\"Population\"]\n",
    "print(smokers)"
   ]
  },
  {
   "cell_type": "code",
   "execution_count": 3,
   "metadata": {},
   "outputs": [
    {
     "data": {
      "text/plain": [
       "Year\n",
       "1980    1.083976e+11\n",
       "1981    1.100578e+11\n",
       "1982    1.119113e+11\n",
       "1983    1.137586e+11\n",
       "1984    1.153919e+11\n",
       "1985    1.167074e+11\n",
       "1986    1.180763e+11\n",
       "1987    1.195846e+11\n",
       "1988    1.208579e+11\n",
       "1989    1.223613e+11\n",
       "1990    1.237370e+11\n",
       "1991    1.251382e+11\n",
       "1992    1.265122e+11\n",
       "1993    1.277092e+11\n",
       "1994    1.285117e+11\n",
       "1995    1.293541e+11\n",
       "1996    1.302031e+11\n",
       "1997    1.302762e+11\n",
       "1998    1.299635e+11\n",
       "1999    1.295767e+11\n",
       "2000    1.287338e+11\n",
       "2001    1.278243e+11\n",
       "2002    1.270473e+11\n",
       "2003    1.263069e+11\n",
       "2004    1.259266e+11\n",
       "2005    1.253821e+11\n",
       "2006    1.247664e+11\n",
       "2007    1.240225e+11\n",
       "2008    1.238559e+11\n",
       "2009    1.241818e+11\n",
       "2010    1.252104e+11\n",
       "2011    1.267371e+11\n",
       "2012    1.285959e+11\n",
       "Name: Smokers, dtype: float64"
      ]
     },
     "execution_count": 3,
     "metadata": {},
     "output_type": "execute_result"
    }
   ],
   "source": [
    "# Group by Year and sum the Daily smoking prevalence and Population columns\n",
    "yearly_totals = smokers.groupby('Year').agg({\n",
    "    'Daily smoking prevalence - both (IHME, GHDx (2012))': 'sum',\n",
    "    'Population': 'sum',\n",
    "    'Smokers': 'sum'\n",
    "})\n",
    "yearly_totals['Smokers']\n"
   ]
  },
  {
   "cell_type": "code",
   "execution_count": 9,
   "metadata": {},
   "outputs": [
    {
     "data": {
      "text/html": [
       "<div>\n",
       "<style scoped>\n",
       "    .dataframe tbody tr th:only-of-type {\n",
       "        vertical-align: middle;\n",
       "    }\n",
       "\n",
       "    .dataframe tbody tr th {\n",
       "        vertical-align: top;\n",
       "    }\n",
       "\n",
       "    .dataframe thead th {\n",
       "        text-align: right;\n",
       "    }\n",
       "</style>\n",
       "<table border=\"1\" class=\"dataframe\">\n",
       "  <thead>\n",
       "    <tr style=\"text-align: right;\">\n",
       "      <th></th>\n",
       "      <th>Daily smoking prevalence - both (IHME, GHDx (2012))</th>\n",
       "      <th>Population</th>\n",
       "      <th>Smokers</th>\n",
       "    </tr>\n",
       "    <tr>\n",
       "      <th>Year</th>\n",
       "      <th></th>\n",
       "      <th></th>\n",
       "      <th></th>\n",
       "    </tr>\n",
       "  </thead>\n",
       "  <tbody>\n",
       "    <tr>\n",
       "      <th>1997</th>\n",
       "      <td>3589.400006</td>\n",
       "      <td>5902469315</td>\n",
       "      <td>1.302762e+11</td>\n",
       "    </tr>\n",
       "    <tr>\n",
       "      <th>1996</th>\n",
       "      <td>3626.500011</td>\n",
       "      <td>5820136008</td>\n",
       "      <td>1.302031e+11</td>\n",
       "    </tr>\n",
       "    <tr>\n",
       "      <th>1998</th>\n",
       "      <td>3553.300010</td>\n",
       "      <td>5984550448</td>\n",
       "      <td>1.299635e+11</td>\n",
       "    </tr>\n",
       "    <tr>\n",
       "      <th>1999</th>\n",
       "      <td>3517.999994</td>\n",
       "      <td>6066358956</td>\n",
       "      <td>1.295767e+11</td>\n",
       "    </tr>\n",
       "    <tr>\n",
       "      <th>1995</th>\n",
       "      <td>3644.400008</td>\n",
       "      <td>5737349898</td>\n",
       "      <td>1.293541e+11</td>\n",
       "    </tr>\n",
       "  </tbody>\n",
       "</table>\n",
       "</div>"
      ],
      "text/plain": [
       "      Daily smoking prevalence - both (IHME, GHDx (2012))  Population  \\\n",
       "Year                                                                    \n",
       "1997                                        3589.400006    5902469315   \n",
       "1996                                        3626.500011    5820136008   \n",
       "1998                                        3553.300010    5984550448   \n",
       "1999                                        3517.999994    6066358956   \n",
       "1995                                        3644.400008    5737349898   \n",
       "\n",
       "           Smokers  \n",
       "Year                \n",
       "1997  1.302762e+11  \n",
       "1996  1.302031e+11  \n",
       "1998  1.299635e+11  \n",
       "1999  1.295767e+11  \n",
       "1995  1.293541e+11  "
      ]
     },
     "execution_count": 9,
     "metadata": {},
     "output_type": "execute_result"
    }
   ],
   "source": [
    "# Sort the Smokers column in descending order\n",
    "yearly_totals_sorted = yearly_totals.sort_values(by='Smokers', ascending=False)\n",
    "\n",
    "# Print the sorted DataFrame\n",
    "yearly_totals_sorted.head(5)\n",
    "# yearly_totals_sorted.tail(5)\n"
   ]
  },
  {
   "cell_type": "markdown",
   "metadata": {},
   "source": [
    "Vemos que el año con más fumadores fue el 1997."
   ]
  },
  {
   "cell_type": "markdown",
   "metadata": {},
   "source": [
    "## Población de smokers"
   ]
  },
  {
   "cell_type": "code",
   "execution_count": 5,
   "metadata": {},
   "outputs": [
    {
     "data": {
      "text/html": [
       "<div>\n",
       "<style scoped>\n",
       "    .dataframe tbody tr th:only-of-type {\n",
       "        vertical-align: middle;\n",
       "    }\n",
       "\n",
       "    .dataframe tbody tr th {\n",
       "        vertical-align: top;\n",
       "    }\n",
       "\n",
       "    .dataframe thead th {\n",
       "        text-align: right;\n",
       "    }\n",
       "</style>\n",
       "<table border=\"1\" class=\"dataframe\">\n",
       "  <thead>\n",
       "    <tr style=\"text-align: right;\">\n",
       "      <th></th>\n",
       "      <th>Entity</th>\n",
       "      <th>Code</th>\n",
       "      <th>Year</th>\n",
       "      <th>Prevalence of current tobacco use (% of adults)</th>\n",
       "      <th>Population</th>\n",
       "      <th>Smokers</th>\n",
       "    </tr>\n",
       "  </thead>\n",
       "  <tbody>\n",
       "    <tr>\n",
       "      <th>0</th>\n",
       "      <td>Afghanistan</td>\n",
       "      <td>AFG</td>\n",
       "      <td>2000</td>\n",
       "      <td>36.9</td>\n",
       "      <td>20130334</td>\n",
       "      <td>742809324.6</td>\n",
       "    </tr>\n",
       "    <tr>\n",
       "      <th>1</th>\n",
       "      <td>Afghanistan</td>\n",
       "      <td>AFG</td>\n",
       "      <td>2005</td>\n",
       "      <td>32.7</td>\n",
       "      <td>24404574</td>\n",
       "      <td>798029569.8</td>\n",
       "    </tr>\n",
       "    <tr>\n",
       "      <th>2</th>\n",
       "      <td>Afghanistan</td>\n",
       "      <td>AFG</td>\n",
       "      <td>2010</td>\n",
       "      <td>29.1</td>\n",
       "      <td>28284088</td>\n",
       "      <td>823066960.8</td>\n",
       "    </tr>\n",
       "    <tr>\n",
       "      <th>3</th>\n",
       "      <td>Afghanistan</td>\n",
       "      <td>AFG</td>\n",
       "      <td>2015</td>\n",
       "      <td>26.0</td>\n",
       "      <td>33831765</td>\n",
       "      <td>879625890.0</td>\n",
       "    </tr>\n",
       "    <tr>\n",
       "      <th>4</th>\n",
       "      <td>Afghanistan</td>\n",
       "      <td>AFG</td>\n",
       "      <td>2018</td>\n",
       "      <td>23.8</td>\n",
       "      <td>36743040</td>\n",
       "      <td>874484352.0</td>\n",
       "    </tr>\n",
       "    <tr>\n",
       "      <th>...</th>\n",
       "      <td>...</td>\n",
       "      <td>...</td>\n",
       "      <td>...</td>\n",
       "      <td>...</td>\n",
       "      <td>...</td>\n",
       "      <td>...</td>\n",
       "    </tr>\n",
       "    <tr>\n",
       "      <th>1164</th>\n",
       "      <td>Zimbabwe</td>\n",
       "      <td>ZWE</td>\n",
       "      <td>2010</td>\n",
       "      <td>15.6</td>\n",
       "      <td>13356552</td>\n",
       "      <td>208362211.2</td>\n",
       "    </tr>\n",
       "    <tr>\n",
       "      <th>1165</th>\n",
       "      <td>Zimbabwe</td>\n",
       "      <td>ZWE</td>\n",
       "      <td>2015</td>\n",
       "      <td>13.6</td>\n",
       "      <td>14399009</td>\n",
       "      <td>195826522.4</td>\n",
       "    </tr>\n",
       "    <tr>\n",
       "      <th>1166</th>\n",
       "      <td>Zimbabwe</td>\n",
       "      <td>ZWE</td>\n",
       "      <td>2018</td>\n",
       "      <td>12.1</td>\n",
       "      <td>15034457</td>\n",
       "      <td>181916929.7</td>\n",
       "    </tr>\n",
       "    <tr>\n",
       "      <th>1167</th>\n",
       "      <td>Zimbabwe</td>\n",
       "      <td>ZWE</td>\n",
       "      <td>2019</td>\n",
       "      <td>12.1</td>\n",
       "      <td>15271377</td>\n",
       "      <td>184783661.7</td>\n",
       "    </tr>\n",
       "    <tr>\n",
       "      <th>1168</th>\n",
       "      <td>Zimbabwe</td>\n",
       "      <td>ZWE</td>\n",
       "      <td>2020</td>\n",
       "      <td>11.7</td>\n",
       "      <td>15526888</td>\n",
       "      <td>181664589.6</td>\n",
       "    </tr>\n",
       "  </tbody>\n",
       "</table>\n",
       "<p>1169 rows × 6 columns</p>\n",
       "</div>"
      ],
      "text/plain": [
       "           Entity Code  Year  Prevalence of current tobacco use (% of adults)  \\\n",
       "0     Afghanistan  AFG  2000                                             36.9   \n",
       "1     Afghanistan  AFG  2005                                             32.7   \n",
       "2     Afghanistan  AFG  2010                                             29.1   \n",
       "3     Afghanistan  AFG  2015                                             26.0   \n",
       "4     Afghanistan  AFG  2018                                             23.8   \n",
       "...           ...  ...   ...                                              ...   \n",
       "1164     Zimbabwe  ZWE  2010                                             15.6   \n",
       "1165     Zimbabwe  ZWE  2015                                             13.6   \n",
       "1166     Zimbabwe  ZWE  2018                                             12.1   \n",
       "1167     Zimbabwe  ZWE  2019                                             12.1   \n",
       "1168     Zimbabwe  ZWE  2020                                             11.7   \n",
       "\n",
       "      Population      Smokers  \n",
       "0       20130334  742809324.6  \n",
       "1       24404574  798029569.8  \n",
       "2       28284088  823066960.8  \n",
       "3       33831765  879625890.0  \n",
       "4       36743040  874484352.0  \n",
       "...          ...          ...  \n",
       "1164    13356552  208362211.2  \n",
       "1165    14399009  195826522.4  \n",
       "1166    15034457  181916929.7  \n",
       "1167    15271377  184783661.7  \n",
       "1168    15526888  181664589.6  \n",
       "\n",
       "[1169 rows x 6 columns]"
      ]
     },
     "execution_count": 5,
     "metadata": {},
     "output_type": "execute_result"
    }
   ],
   "source": [
    "popu = pd.read_csv(\"./data/Population-Smokers.csv\")\n",
    "popu[\"Smokers\"] = popu[f\"Prevalence of current tobacco use (% of adults)\"]* popu[\"Population\"]\n",
    "popu"
   ]
  },
  {
   "cell_type": "code",
   "execution_count": 6,
   "metadata": {},
   "outputs": [
    {
     "data": {
      "text/plain": [
       "Year\n",
       "2000    4.155925e+11\n",
       "2005    3.972845e+11\n",
       "2010    3.798413e+11\n",
       "2015    3.650050e+11\n",
       "2018    3.495288e+11\n",
       "2019    3.526450e+11\n",
       "2020    3.493450e+11\n",
       "Name: Smokers, dtype: float64"
      ]
     },
     "execution_count": 6,
     "metadata": {},
     "output_type": "execute_result"
    }
   ],
   "source": [
    "yearly_popu = popu.groupby('Year').agg({\n",
    "    f'Prevalence of current tobacco use (% of adults)': 'sum',\n",
    "    'Population': 'sum',\n",
    "    'Smokers': 'sum'\n",
    "})\n",
    "yearly_popu['Smokers']"
   ]
  },
  {
   "cell_type": "code",
   "execution_count": 8,
   "metadata": {},
   "outputs": [
    {
     "data": {
      "text/plain": [
       "Year\n",
       "2010    3.798413e+11\n",
       "2015    3.650050e+11\n",
       "2019    3.526450e+11\n",
       "2018    3.495288e+11\n",
       "2020    3.493450e+11\n",
       "Name: Smokers, dtype: float64"
      ]
     },
     "execution_count": 8,
     "metadata": {},
     "output_type": "execute_result"
    }
   ],
   "source": [
    "# Sort the Smokers column in descending order\n",
    "yearly_popu = yearly_popu.sort_values(by='Smokers', ascending=False)\n",
    "\n",
    "# Print the sorted DataFrame\n",
    "yearly_popu.head(5)['Smokers']\n",
    "yearly_popu.tail(5)['Smokers']"
   ]
  }
 ],
 "metadata": {
  "kernelspec": {
   "display_name": "Python 3",
   "language": "python",
   "name": "python3"
  },
  "language_info": {
   "codemirror_mode": {
    "name": "ipython",
    "version": 3
   },
   "file_extension": ".py",
   "mimetype": "text/x-python",
   "name": "python",
   "nbconvert_exporter": "python",
   "pygments_lexer": "ipython3",
   "version": "3.12.1"
  }
 },
 "nbformat": 4,
 "nbformat_minor": 2
}
