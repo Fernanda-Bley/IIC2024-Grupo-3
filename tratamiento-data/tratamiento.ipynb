{
 "cells": [
  {
   "cell_type": "markdown",
   "metadata": {},
   "source": [
    "# Tratamiento de data"
   ]
  },
  {
   "cell_type": "code",
   "execution_count": 1,
   "metadata": {},
   "outputs": [
    {
     "name": "stdout",
     "output_type": "stream",
     "text": [
      "Requirement already satisfied: pandas in /home/codespace/.local/lib/python3.12/site-packages (2.2.2)\n",
      "Requirement already satisfied: numpy>=1.26.0 in /home/codespace/.local/lib/python3.12/site-packages (from pandas) (2.1.1)\n",
      "Requirement already satisfied: python-dateutil>=2.8.2 in /home/codespace/.local/lib/python3.12/site-packages (from pandas) (2.9.0.post0)\n",
      "Requirement already satisfied: pytz>=2020.1 in /home/codespace/.local/lib/python3.12/site-packages (from pandas) (2024.2)\n",
      "Requirement already satisfied: tzdata>=2022.7 in /home/codespace/.local/lib/python3.12/site-packages (from pandas) (2024.1)\n",
      "Requirement already satisfied: six>=1.5 in /home/codespace/.local/lib/python3.12/site-packages (from python-dateutil>=2.8.2->pandas) (1.16.0)\n",
      "Requirement already satisfied: numpy in /home/codespace/.local/lib/python3.12/site-packages (2.1.1)\n",
      "Requirement already satisfied: pycountry in /usr/local/python/3.12.1/lib/python3.12/site-packages (24.6.1)\n"
     ]
    }
   ],
   "source": [
    "!pip install pandas;pip install numpy;pip install pycountry"
   ]
  },
  {
   "cell_type": "code",
   "execution_count": 2,
   "metadata": {},
   "outputs": [],
   "source": [
    "import pandas as pd\n",
    "import numpy as np\n",
    "import pycountry"
   ]
  },
  {
   "cell_type": "code",
   "execution_count": 3,
   "metadata": {},
   "outputs": [],
   "source": [
    "daily = pd.read_csv(\"./data/population-daily-smokers.csv\")\n",
    "popu = pd.read_csv(\"./data/population-smokers.csv\")\n",
    "men_women = pd.read_csv(\"./data/comparing-the-share-of-men-and-women-who-are-smoking.csv\")"
   ]
  },
  {
   "cell_type": "markdown",
   "metadata": {},
   "source": [
    "## Revisión de Daily"
   ]
  },
  {
   "cell_type": "code",
   "execution_count": 4,
   "metadata": {},
   "outputs": [
    {
     "data": {
      "text/plain": [
       "Entity                                                 0\n",
       "Code                                                   0\n",
       "Year                                                   0\n",
       "Daily smoking prevalence - both (IHME, GHDx (2012))    0\n",
       "Population                                             0\n",
       "dtype: int64"
      ]
     },
     "execution_count": 4,
     "metadata": {},
     "output_type": "execute_result"
    }
   ],
   "source": [
    "daily.isna().sum()"
   ]
  },
  {
   "cell_type": "code",
   "execution_count": 5,
   "metadata": {},
   "outputs": [
    {
     "data": {
      "text/plain": [
       "array(['AFG', 'ALB', 'DZA', 'AND', 'AGO', 'ATG', 'ARG', 'ARM', 'AUS',\n",
       "       'AUT', 'AZE', 'BHS', 'BHR', 'BGD', 'BRB', 'BLR', 'BEL', 'BLZ',\n",
       "       'BEN', 'BTN', 'BOL', 'BIH', 'BWA', 'BRA', 'BRN', 'BGR', 'BFA',\n",
       "       'BDI', 'KHM', 'CMR', 'CAN', 'CPV', 'CAF', 'TCD', 'CHL', 'CHN',\n",
       "       'COL', 'COM', 'COG', 'CRI', 'CIV', 'HRV', 'CUB', 'CYP', 'CZE',\n",
       "       'COD', 'DNK', 'DJI', 'DMA', 'DOM', 'TLS', 'ECU', 'EGY', 'SLV',\n",
       "       'GNQ', 'ERI', 'EST', 'SWZ', 'ETH', 'FJI', 'FIN', 'FRA', 'GAB',\n",
       "       'GMB', 'GEO', 'DEU', 'GHA', 'GRC', 'GRD', 'GTM', 'GIN', 'GNB',\n",
       "       'GUY', 'HTI', 'HND', 'HUN', 'ISL', 'IND', 'IDN', 'IRN', 'IRQ',\n",
       "       'IRL', 'ISR', 'ITA', 'JAM', 'JPN', 'JOR', 'KAZ', 'KEN', 'KIR',\n",
       "       'KWT', 'KGZ', 'LAO', 'LVA', 'LBN', 'LSO', 'LBR', 'LBY', 'LTU',\n",
       "       'LUX', 'MDG', 'MWI', 'MYS', 'MDV', 'MLI', 'MLT', 'MHL', 'MRT',\n",
       "       'MUS', 'MEX', 'MDA', 'MNG', 'MNE', 'MAR', 'MOZ', 'MMR', 'NAM',\n",
       "       'NPL', 'NLD', 'NZL', 'NIC', 'NER', 'NGA', 'PRK', 'MKD', 'NOR',\n",
       "       'OMN', 'PAK', 'PSE', 'PAN', 'PNG', 'PRY', 'PER', 'PHL', 'POL',\n",
       "       'PRT', 'QAT', 'ROU', 'RUS', 'RWA', 'LCA', 'VCT', 'WSM', 'STP',\n",
       "       'SAU', 'SEN', 'SRB', 'SYC', 'SLE', 'SGP', 'SVK', 'SVN', 'SLB',\n",
       "       'SOM', 'ZAF', 'KOR', 'ESP', 'LKA', 'SDN', 'SUR', 'SWE', 'CHE',\n",
       "       'SYR', 'TWN', 'TJK', 'TZA', 'THA', 'TGO', 'TON', 'TTO', 'TUN',\n",
       "       'TUR', 'TKM', 'UGA', 'UKR', 'ARE', 'GBR', 'USA', 'URY', 'UZB',\n",
       "       'VUT', 'VEN', 'VNM', 'OWID_WRL', 'YEM', 'ZMB', 'ZWE'], dtype=object)"
      ]
     },
     "execution_count": 5,
     "metadata": {},
     "output_type": "execute_result"
    }
   ],
   "source": [
    "daily['Code'].unique()"
   ]
  },
  {
   "cell_type": "code",
   "execution_count": 6,
   "metadata": {},
   "outputs": [
    {
     "name": "stdout",
     "output_type": "stream",
     "text": [
      "        Entity Code  Year  \\\n",
      "0  Afghanistan  AFG  1980   \n",
      "1  Afghanistan  AFG  1981   \n",
      "2  Afghanistan  AFG  1982   \n",
      "3  Afghanistan  AFG  1983   \n",
      "4  Afghanistan  AFG  1984   \n",
      "\n",
      "   Daily smoking prevalence - both (IHME, GHDx (2012))  Population  \n",
      "0                                               10.4      13169312  \n",
      "1                                               10.5      11937587  \n",
      "2                                               10.5      10991382  \n",
      "3                                               10.5      10917986  \n",
      "4                                               10.6      11190220  \n"
     ]
    },
    {
     "data": {
      "text/plain": [
       "['OWID_WRL']"
      ]
     },
     "execution_count": 6,
     "metadata": {},
     "output_type": "execute_result"
    }
   ],
   "source": [
    "# Get the unique country codes in the country_df DataFrame\n",
    "all_codes = [country.alpha_3 for country in pycountry.countries]\n",
    "\n",
    "# Get the unique country codes in the daily DataFrame\n",
    "unique_codes = daily['Code'].unique()\n",
    "\n",
    "\n",
    "# Print the updated DataFrame\n",
    "print(daily.head())  # Show the first few rows\n",
    "\n",
    "# Find the missing country codes\n",
    "missing_codes = list(set(unique_codes) - set(all_codes))\n",
    "missing_codes"
   ]
  },
  {
   "cell_type": "markdown",
   "metadata": {},
   "source": [
    "Como el unico país que no está es porque ```OWID_WRL``` son  \"International World\" osea datos que no clasifican. No faltan paises "
   ]
  },
  {
   "cell_type": "code",
   "execution_count": 29,
   "metadata": {},
   "outputs": [],
   "source": [
    "daily = daily[daily['Code'] != 'OWID_WRL']\n",
    "daily.to_csv('Daily-Smokers.csv', index=False, header=True)"
   ]
  },
  {
   "cell_type": "markdown",
   "metadata": {},
   "source": [
    "## Revisión de Population"
   ]
  },
  {
   "cell_type": "code",
   "execution_count": 8,
   "metadata": {},
   "outputs": [
    {
     "data": {
      "text/plain": [
       "Entity                                              0\n",
       "Code                                               28\n",
       "Year                                                0\n",
       "Prevalence of current tobacco use (% of adults)     0\n",
       "Population                                          0\n",
       "dtype: int64"
      ]
     },
     "execution_count": 8,
     "metadata": {},
     "output_type": "execute_result"
    }
   ],
   "source": [
    "popu.isna().sum()"
   ]
  },
  {
   "cell_type": "code",
   "execution_count": 9,
   "metadata": {},
   "outputs": [
    {
     "data": {
      "text/html": [
       "<div>\n",
       "<style scoped>\n",
       "    .dataframe tbody tr th:only-of-type {\n",
       "        vertical-align: middle;\n",
       "    }\n",
       "\n",
       "    .dataframe tbody tr th {\n",
       "        vertical-align: top;\n",
       "    }\n",
       "\n",
       "    .dataframe thead th {\n",
       "        text-align: right;\n",
       "    }\n",
       "</style>\n",
       "<table border=\"1\" class=\"dataframe\">\n",
       "  <thead>\n",
       "    <tr style=\"text-align: right;\">\n",
       "      <th></th>\n",
       "      <th>Entity</th>\n",
       "      <th>Code</th>\n",
       "      <th>Year</th>\n",
       "      <th>Prevalence of current tobacco use (% of adults)</th>\n",
       "      <th>Population</th>\n",
       "    </tr>\n",
       "  </thead>\n",
       "  <tbody>\n",
       "    <tr>\n",
       "      <th>448</th>\n",
       "      <td>High-income countries</td>\n",
       "      <td>NaN</td>\n",
       "      <td>2000</td>\n",
       "      <td>33.966145</td>\n",
       "      <td>1096764306</td>\n",
       "    </tr>\n",
       "    <tr>\n",
       "      <th>449</th>\n",
       "      <td>High-income countries</td>\n",
       "      <td>NaN</td>\n",
       "      <td>2005</td>\n",
       "      <td>30.498844</td>\n",
       "      <td>1134613531</td>\n",
       "    </tr>\n",
       "    <tr>\n",
       "      <th>450</th>\n",
       "      <td>High-income countries</td>\n",
       "      <td>NaN</td>\n",
       "      <td>2010</td>\n",
       "      <td>27.464682</td>\n",
       "      <td>1176862152</td>\n",
       "    </tr>\n",
       "    <tr>\n",
       "      <th>451</th>\n",
       "      <td>High-income countries</td>\n",
       "      <td>NaN</td>\n",
       "      <td>2015</td>\n",
       "      <td>24.742230</td>\n",
       "      <td>1216633392</td>\n",
       "    </tr>\n",
       "    <tr>\n",
       "      <th>452</th>\n",
       "      <td>High-income countries</td>\n",
       "      <td>NaN</td>\n",
       "      <td>2018</td>\n",
       "      <td>22.870430</td>\n",
       "      <td>1237400303</td>\n",
       "    </tr>\n",
       "    <tr>\n",
       "      <th>453</th>\n",
       "      <td>High-income countries</td>\n",
       "      <td>NaN</td>\n",
       "      <td>2019</td>\n",
       "      <td>22.858442</td>\n",
       "      <td>1243293724</td>\n",
       "    </tr>\n",
       "    <tr>\n",
       "      <th>454</th>\n",
       "      <td>High-income countries</td>\n",
       "      <td>NaN</td>\n",
       "      <td>2020</td>\n",
       "      <td>22.438213</td>\n",
       "      <td>1246978178</td>\n",
       "    </tr>\n",
       "    <tr>\n",
       "      <th>616</th>\n",
       "      <td>Low-income countries</td>\n",
       "      <td>NaN</td>\n",
       "      <td>2000</td>\n",
       "      <td>21.796463</td>\n",
       "      <td>390079727</td>\n",
       "    </tr>\n",
       "    <tr>\n",
       "      <th>617</th>\n",
       "      <td>Low-income countries</td>\n",
       "      <td>NaN</td>\n",
       "      <td>2005</td>\n",
       "      <td>18.819305</td>\n",
       "      <td>450155671</td>\n",
       "    </tr>\n",
       "    <tr>\n",
       "      <th>618</th>\n",
       "      <td>Low-income countries</td>\n",
       "      <td>NaN</td>\n",
       "      <td>2010</td>\n",
       "      <td>16.304663</td>\n",
       "      <td>520054114</td>\n",
       "    </tr>\n",
       "    <tr>\n",
       "      <th>619</th>\n",
       "      <td>Low-income countries</td>\n",
       "      <td>NaN</td>\n",
       "      <td>2015</td>\n",
       "      <td>14.232297</td>\n",
       "      <td>592175408</td>\n",
       "    </tr>\n",
       "    <tr>\n",
       "      <th>620</th>\n",
       "      <td>Low-income countries</td>\n",
       "      <td>NaN</td>\n",
       "      <td>2018</td>\n",
       "      <td>12.809574</td>\n",
       "      <td>642186193</td>\n",
       "    </tr>\n",
       "    <tr>\n",
       "      <th>621</th>\n",
       "      <td>Low-income countries</td>\n",
       "      <td>NaN</td>\n",
       "      <td>2019</td>\n",
       "      <td>12.795115</td>\n",
       "      <td>660718368</td>\n",
       "    </tr>\n",
       "    <tr>\n",
       "      <th>622</th>\n",
       "      <td>Low-income countries</td>\n",
       "      <td>NaN</td>\n",
       "      <td>2020</td>\n",
       "      <td>12.463944</td>\n",
       "      <td>679560751</td>\n",
       "    </tr>\n",
       "    <tr>\n",
       "      <th>623</th>\n",
       "      <td>Lower-middle-income countries</td>\n",
       "      <td>NaN</td>\n",
       "      <td>2000</td>\n",
       "      <td>43.284454</td>\n",
       "      <td>2271915129</td>\n",
       "    </tr>\n",
       "    <tr>\n",
       "      <th>624</th>\n",
       "      <td>Lower-middle-income countries</td>\n",
       "      <td>NaN</td>\n",
       "      <td>2005</td>\n",
       "      <td>36.885810</td>\n",
       "      <td>2487466881</td>\n",
       "    </tr>\n",
       "    <tr>\n",
       "      <th>625</th>\n",
       "      <td>Lower-middle-income countries</td>\n",
       "      <td>NaN</td>\n",
       "      <td>2010</td>\n",
       "      <td>31.551897</td>\n",
       "      <td>2707862957</td>\n",
       "    </tr>\n",
       "    <tr>\n",
       "      <th>626</th>\n",
       "      <td>Lower-middle-income countries</td>\n",
       "      <td>NaN</td>\n",
       "      <td>2015</td>\n",
       "      <td>27.271875</td>\n",
       "      <td>2931203438</td>\n",
       "    </tr>\n",
       "    <tr>\n",
       "      <th>627</th>\n",
       "      <td>Lower-middle-income countries</td>\n",
       "      <td>NaN</td>\n",
       "      <td>2018</td>\n",
       "      <td>24.276703</td>\n",
       "      <td>3059616816</td>\n",
       "    </tr>\n",
       "    <tr>\n",
       "      <th>628</th>\n",
       "      <td>Lower-middle-income countries</td>\n",
       "      <td>NaN</td>\n",
       "      <td>2019</td>\n",
       "      <td>24.249826</td>\n",
       "      <td>3101052514</td>\n",
       "    </tr>\n",
       "    <tr>\n",
       "      <th>629</th>\n",
       "      <td>Lower-middle-income countries</td>\n",
       "      <td>NaN</td>\n",
       "      <td>2020</td>\n",
       "      <td>23.577711</td>\n",
       "      <td>3141910133</td>\n",
       "    </tr>\n",
       "    <tr>\n",
       "      <th>1113</th>\n",
       "      <td>Upper-middle-income countries</td>\n",
       "      <td>NaN</td>\n",
       "      <td>2000</td>\n",
       "      <td>28.062386</td>\n",
       "      <td>2387650822</td>\n",
       "    </tr>\n",
       "    <tr>\n",
       "      <th>1114</th>\n",
       "      <td>Upper-middle-income countries</td>\n",
       "      <td>NaN</td>\n",
       "      <td>2005</td>\n",
       "      <td>26.993200</td>\n",
       "      <td>2487125039</td>\n",
       "    </tr>\n",
       "    <tr>\n",
       "      <th>1115</th>\n",
       "      <td>Upper-middle-income countries</td>\n",
       "      <td>NaN</td>\n",
       "      <td>2010</td>\n",
       "      <td>25.931273</td>\n",
       "      <td>2587239946</td>\n",
       "    </tr>\n",
       "    <tr>\n",
       "      <th>1116</th>\n",
       "      <td>Upper-middle-income countries</td>\n",
       "      <td>NaN</td>\n",
       "      <td>2015</td>\n",
       "      <td>25.009330</td>\n",
       "      <td>2698929424</td>\n",
       "    </tr>\n",
       "    <tr>\n",
       "      <th>1117</th>\n",
       "      <td>Upper-middle-income countries</td>\n",
       "      <td>NaN</td>\n",
       "      <td>2018</td>\n",
       "      <td>24.391320</td>\n",
       "      <td>2759864864</td>\n",
       "    </tr>\n",
       "    <tr>\n",
       "      <th>1118</th>\n",
       "      <td>Upper-middle-income countries</td>\n",
       "      <td>NaN</td>\n",
       "      <td>2019</td>\n",
       "      <td>24.374374</td>\n",
       "      <td>2776256182</td>\n",
       "    </tr>\n",
       "    <tr>\n",
       "      <th>1119</th>\n",
       "      <td>Upper-middle-income countries</td>\n",
       "      <td>NaN</td>\n",
       "      <td>2020</td>\n",
       "      <td>24.220100</td>\n",
       "      <td>2789064927</td>\n",
       "    </tr>\n",
       "  </tbody>\n",
       "</table>\n",
       "</div>"
      ],
      "text/plain": [
       "                             Entity Code  Year  \\\n",
       "448           High-income countries  NaN  2000   \n",
       "449           High-income countries  NaN  2005   \n",
       "450           High-income countries  NaN  2010   \n",
       "451           High-income countries  NaN  2015   \n",
       "452           High-income countries  NaN  2018   \n",
       "453           High-income countries  NaN  2019   \n",
       "454           High-income countries  NaN  2020   \n",
       "616            Low-income countries  NaN  2000   \n",
       "617            Low-income countries  NaN  2005   \n",
       "618            Low-income countries  NaN  2010   \n",
       "619            Low-income countries  NaN  2015   \n",
       "620            Low-income countries  NaN  2018   \n",
       "621            Low-income countries  NaN  2019   \n",
       "622            Low-income countries  NaN  2020   \n",
       "623   Lower-middle-income countries  NaN  2000   \n",
       "624   Lower-middle-income countries  NaN  2005   \n",
       "625   Lower-middle-income countries  NaN  2010   \n",
       "626   Lower-middle-income countries  NaN  2015   \n",
       "627   Lower-middle-income countries  NaN  2018   \n",
       "628   Lower-middle-income countries  NaN  2019   \n",
       "629   Lower-middle-income countries  NaN  2020   \n",
       "1113  Upper-middle-income countries  NaN  2000   \n",
       "1114  Upper-middle-income countries  NaN  2005   \n",
       "1115  Upper-middle-income countries  NaN  2010   \n",
       "1116  Upper-middle-income countries  NaN  2015   \n",
       "1117  Upper-middle-income countries  NaN  2018   \n",
       "1118  Upper-middle-income countries  NaN  2019   \n",
       "1119  Upper-middle-income countries  NaN  2020   \n",
       "\n",
       "      Prevalence of current tobacco use (% of adults)  Population  \n",
       "448                                         33.966145  1096764306  \n",
       "449                                         30.498844  1134613531  \n",
       "450                                         27.464682  1176862152  \n",
       "451                                         24.742230  1216633392  \n",
       "452                                         22.870430  1237400303  \n",
       "453                                         22.858442  1243293724  \n",
       "454                                         22.438213  1246978178  \n",
       "616                                         21.796463   390079727  \n",
       "617                                         18.819305   450155671  \n",
       "618                                         16.304663   520054114  \n",
       "619                                         14.232297   592175408  \n",
       "620                                         12.809574   642186193  \n",
       "621                                         12.795115   660718368  \n",
       "622                                         12.463944   679560751  \n",
       "623                                         43.284454  2271915129  \n",
       "624                                         36.885810  2487466881  \n",
       "625                                         31.551897  2707862957  \n",
       "626                                         27.271875  2931203438  \n",
       "627                                         24.276703  3059616816  \n",
       "628                                         24.249826  3101052514  \n",
       "629                                         23.577711  3141910133  \n",
       "1113                                        28.062386  2387650822  \n",
       "1114                                        26.993200  2487125039  \n",
       "1115                                        25.931273  2587239946  \n",
       "1116                                        25.009330  2698929424  \n",
       "1117                                        24.391320  2759864864  \n",
       "1118                                        24.374374  2776256182  \n",
       "1119                                        24.220100  2789064927  "
      ]
     },
     "execution_count": 9,
     "metadata": {},
     "output_type": "execute_result"
    }
   ],
   "source": [
    "# Tiene 28 Codes que no funcionan\n",
    "popu[popu['Code'].isna() == True]"
   ]
  },
  {
   "cell_type": "markdown",
   "metadata": {},
   "source": [
    "Vemos que en este caso, en los que no son paises, así que se pueden droppear"
   ]
  },
  {
   "cell_type": "code",
   "execution_count": 10,
   "metadata": {},
   "outputs": [
    {
     "data": {
      "text/plain": [
       "Entity                                             0\n",
       "Code                                               0\n",
       "Year                                               0\n",
       "Prevalence of current tobacco use (% of adults)    0\n",
       "Population                                         0\n",
       "dtype: int64"
      ]
     },
     "execution_count": 10,
     "metadata": {},
     "output_type": "execute_result"
    }
   ],
   "source": [
    "popu.dropna().isna().sum()"
   ]
  },
  {
   "cell_type": "markdown",
   "metadata": {},
   "source": [
    "Ya no hay NaN ahora"
   ]
  },
  {
   "cell_type": "code",
   "execution_count": 11,
   "metadata": {},
   "outputs": [
    {
     "data": {
      "text/plain": [
       "[nan, 'OWID_WRL']"
      ]
     },
     "execution_count": 11,
     "metadata": {},
     "output_type": "execute_result"
    }
   ],
   "source": [
    "# Get the unique country codes in the country_df DataFrame\n",
    "all_codes = [country.alpha_3 for country in pycountry.countries]\n",
    "\n",
    "# Get the unique country codes in the daily DataFrame\n",
    "unique_codes = popu['Code'].unique()\n",
    "\n",
    "# Find the missing country codes\n",
    "missing_codes = list(set(unique_codes) - set(all_codes))\n",
    "missing_codes"
   ]
  },
  {
   "cell_type": "code",
   "execution_count": 18,
   "metadata": {},
   "outputs": [
    {
     "data": {
      "text/plain": [
       "[nan, 'OWID_WRL']"
      ]
     },
     "execution_count": 18,
     "metadata": {},
     "output_type": "execute_result"
    }
   ],
   "source": [
    "missing_codes"
   ]
  },
  {
   "cell_type": "code",
   "execution_count": 28,
   "metadata": {},
   "outputs": [],
   "source": [
    "popu = popu[popu['Code'] != 'OWID_WRL']\n",
    "popu = popu[popu['Code'] != None]\n",
    "popu.to_csv('Population-Smokers.csv', index=False, header=True)"
   ]
  }
 ],
 "metadata": {
  "kernelspec": {
   "display_name": "Python 3",
   "language": "python",
   "name": "python3"
  },
  "language_info": {
   "codemirror_mode": {
    "name": "ipython",
    "version": 3
   },
   "file_extension": ".py",
   "mimetype": "text/x-python",
   "name": "python",
   "nbconvert_exporter": "python",
   "pygments_lexer": "ipython3",
   "version": "3.12.1"
  }
 },
 "nbformat": 4,
 "nbformat_minor": 2
}
